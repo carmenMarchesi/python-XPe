{
 "cells": [
  {
   "cell_type": "code",
   "execution_count": 3,
   "id": "95715d23",
   "metadata": {},
   "outputs": [],
   "source": [
    "import numpy as np"
   ]
  },
  {
   "cell_type": "code",
   "execution_count": 4,
   "id": "6bca68a2",
   "metadata": {},
   "outputs": [
    {
     "name": "stdout",
     "output_type": "stream",
     "text": [
      "X: [ 10.  20.  30.  40.  50.  60.  70.  80.  90. 100.]\n",
      "Shape: (10,)\n"
     ]
    }
   ],
   "source": [
    "# Os índices no Python vão de 0 a n-1\n",
    "# onde n é tamanho da dimensão\n",
    "x = np.linspace(start=10, stop=100, num=10)\n",
    "print(\"X:\", x)\n",
    "print(\"Shape:\", x.shape)"
   ]
  },
  {
   "cell_type": "code",
   "execution_count": 8,
   "id": "e30a5bd1",
   "metadata": {},
   "outputs": [
    {
     "name": "stdout",
     "output_type": "stream",
     "text": [
      "X: [ 10.  20.  30.  40.  50.  60.  70.  80.  90. 100.] \n",
      "\n",
      "Primeiro Elemento: 10.0\n",
      "Segundo Elemento: 20.0\n",
      "Último Elemento: 100.0\n",
      "Último Elemento: 100.0\n",
      "Penúltimo Elemento: 90.0\n"
     ]
    }
   ],
   "source": [
    "# Extração de elementos\n",
    "print(\"X:\", x, \"\\n\")\n",
    "print(\"Primeiro Elemento:\", x[0])\n",
    "print(\"Segundo Elemento:\", x[1])\n",
    "print(\"Último Elemento:\", x[9])\n",
    "print(\"Último Elemento:\", x[-1])\n",
    "print(\"Penúltimo Elemento:\", x[-2])"
   ]
  },
  {
   "cell_type": "code",
   "execution_count": 9,
   "id": "24d3901d",
   "metadata": {},
   "outputs": [
    {
     "name": "stdout",
     "output_type": "stream",
     "text": [
      "X: [ 10.  20.  30.  40.  50.  60.  70.  80.  90. 100.] \n",
      "\n",
      "Dois primeiros elementos [10. 20.]\n",
      "Dois primeiros elementos [10. 20.]\n",
      "Dois últimos elementos [ 90. 100.]\n"
     ]
    }
   ],
   "source": [
    "# Slicing: extração de subarrays\n",
    "print(\"X:\", x, \"\\n\")\n",
    "print(\"Dois primeiros elementos\", x[0:2])\n",
    "print(\"Dois primeiros elementos\", x[:2])\n",
    "print(\"Dois últimos elementos\", x[-2:])"
   ]
  },
  {
   "cell_type": "code",
   "execution_count": 10,
   "id": "0bf3a410",
   "metadata": {},
   "outputs": [
    {
     "name": "stdout",
     "output_type": "stream",
     "text": [
      "x:\n",
      " [[ 10.  20.  30.  40.  50.]\n",
      " [ 60.  70.  80.  90. 100.]]\n"
     ]
    }
   ],
   "source": [
    "# Slicing em arrays 2D (Matrizes)\n",
    "x = x.reshape(2, 5) #reshape de x para 2 linhas e 5 colunas\n",
    "# remodela o array original\n",
    "print(\"x:\\n\", x)"
   ]
  },
  {
   "cell_type": "code",
   "execution_count": 11,
   "id": "713e8fde",
   "metadata": {},
   "outputs": [
    {
     "name": "stdout",
     "output_type": "stream",
     "text": [
      "Primeira linha, segunda coluna 20.0\n",
      "Segunda linha, penúltima coluna 90.0\n",
      "Última linha, última coluna 100.0\n",
      "Última linha, última coluna 100.0\n"
     ]
    }
   ],
   "source": [
    "# Extração de elementos\n",
    "print(\"Primeira linha, segunda coluna\", x[0, 1])\n",
    "print(\"Segunda linha, penúltima coluna\", x[1, -2])\n",
    "print(\"Última linha, última coluna\", x[1, 4])\n",
    "print(\"Última linha, última coluna\", x[1, -1])"
   ]
  },
  {
   "cell_type": "code",
   "execution_count": 13,
   "id": "252183a7",
   "metadata": {},
   "outputs": [
    {
     "name": "stdout",
     "output_type": "stream",
     "text": [
      "x:\n",
      " [[ 10.  20.  30.  40.  50.]\n",
      " [ 60.  70.  80.  90. 100.]] \n",
      "\n",
      "Primeira linha inteira:  [10. 20. 30. 40. 50.]\n",
      "Primeira linha, segunda a quarta coluna:  [20. 30. 40.]\n",
      "Última coluna inteira:\n",
      " [[ 50.]\n",
      " [100.]]\n"
     ]
    }
   ],
   "source": [
    "# Slicing: extração de subarrays\n",
    "print(\"x:\\n\", x, \"\\n\")\n",
    "print(\"Primeira linha inteira: \", x[0, :])\n",
    "print(\"Primeira linha, segunda a quarta coluna: \", x[0, 1:4])\n",
    "print(\"Última coluna inteira:\\n\", x[:, [-1]])"
   ]
  },
  {
   "cell_type": "code",
   "execution_count": 14,
   "id": "da02c4a3",
   "metadata": {},
   "outputs": [
    {
     "name": "stdout",
     "output_type": "stream",
     "text": [
      "x antes: [1 2 3]\n",
      "x depois: [-100    2    3]\n"
     ]
    }
   ],
   "source": [
    "# Atenção com compartilhamento de memória em subarrays!!\n",
    "x = np.array([1, 2, 3])\n",
    "print(\"x antes:\", x)\n",
    "y = x[:2]\n",
    "y[0] = -100 # alteração do valor em y altera o valor de x\n",
    "print(\"x depois:\", x)"
   ]
  },
  {
   "cell_type": "code",
   "execution_count": 16,
   "id": "1158b1c5",
   "metadata": {},
   "outputs": [
    {
     "name": "stdout",
     "output_type": "stream",
     "text": [
      "x antes: [1 2 3]\n",
      "x depois: [1 2 3]\n",
      "y: [-100    2]\n"
     ]
    }
   ],
   "source": [
    "# Atenção com compartilhamento de memória em subarrays!!\n",
    "x = np.array([1, 2, 3])\n",
    "print(\"x antes:\", x)\n",
    "y = x[:2].copy() # evita que a alteração feita em y seja também feita em x\n",
    "y[0] = -100 # alteração do valor em y altera o valor de x\n",
    "print(\"x depois:\", x)\n",
    "print(\"y:\", y)"
   ]
  },
  {
   "cell_type": "code",
   "execution_count": null,
   "id": "4b64df94",
   "metadata": {},
   "outputs": [],
   "source": []
  }
 ],
 "metadata": {
  "kernelspec": {
   "display_name": "Python 3 (ipykernel)",
   "language": "python",
   "name": "python3"
  },
  "language_info": {
   "codemirror_mode": {
    "name": "ipython",
    "version": 3
   },
   "file_extension": ".py",
   "mimetype": "text/x-python",
   "name": "python",
   "nbconvert_exporter": "python",
   "pygments_lexer": "ipython3",
   "version": "3.9.13"
  }
 },
 "nbformat": 4,
 "nbformat_minor": 5
}
