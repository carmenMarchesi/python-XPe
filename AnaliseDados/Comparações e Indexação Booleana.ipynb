{
 "cells": [
  {
   "cell_type": "code",
   "execution_count": 9,
   "id": "e976b764",
   "metadata": {},
   "outputs": [],
   "source": [
    "import numpy as np"
   ]
  },
  {
   "cell_type": "markdown",
   "id": "e00be694",
   "metadata": {},
   "source": [
    "# Comparações"
   ]
  },
  {
   "cell_type": "markdown",
   "id": "39e7ae4d",
   "metadata": {},
   "source": [
    "## Comparações Booleanas"
   ]
  },
  {
   "cell_type": "code",
   "execution_count": 2,
   "id": "5454a3f7",
   "metadata": {},
   "outputs": [],
   "source": [
    "A = np.array([1, 2, 3])\n",
    "B = np.array([2, 0, 2])\n",
    "s = 3"
   ]
  },
  {
   "cell_type": "markdown",
   "id": "7fd45ac7",
   "metadata": {},
   "source": [
    "## Menor"
   ]
  },
  {
   "cell_type": "code",
   "execution_count": 4,
   "id": "fc6d0ef9",
   "metadata": {},
   "outputs": [
    {
     "name": "stdout",
     "output_type": "stream",
     "text": [
      "Comparação menor:\n",
      "[ True False False]\n",
      "[ True  True False]\n"
     ]
    }
   ],
   "source": [
    "print(\"Comparação menor:\")\n",
    "print(A < B)\n",
    "print(A < s)"
   ]
  },
  {
   "cell_type": "markdown",
   "id": "718d97d4",
   "metadata": {},
   "source": [
    "## Menor ou igual"
   ]
  },
  {
   "cell_type": "code",
   "execution_count": 6,
   "id": "809bf189",
   "metadata": {},
   "outputs": [
    {
     "name": "stdout",
     "output_type": "stream",
     "text": [
      "Comparação menor ou igual:\n",
      "[ True False False]\n",
      "[ True  True  True]\n"
     ]
    }
   ],
   "source": [
    "print(\"Comparação menor ou igual:\")\n",
    "print(A <= B)\n",
    "print(A <= s)"
   ]
  },
  {
   "cell_type": "markdown",
   "id": "06c3fbf3",
   "metadata": {},
   "source": [
    "## Maior"
   ]
  },
  {
   "cell_type": "code",
   "execution_count": 8,
   "id": "5e324acd",
   "metadata": {},
   "outputs": [
    {
     "name": "stdout",
     "output_type": "stream",
     "text": [
      "Comparação maior:\n",
      "[False  True  True]\n",
      "[False False False]\n"
     ]
    }
   ],
   "source": [
    "print(\"Comparação maior:\")\n",
    "print(A > B)\n",
    "print(A > s)"
   ]
  },
  {
   "cell_type": "markdown",
   "id": "e84a10b2",
   "metadata": {},
   "source": [
    "# Maior ou igual"
   ]
  },
  {
   "cell_type": "code",
   "execution_count": 10,
   "id": "1d5ec7d8",
   "metadata": {},
   "outputs": [
    {
     "name": "stdout",
     "output_type": "stream",
     "text": [
      "Comparação menor ou igual:\n",
      "[False  True  True]\n",
      "[False False  True]\n"
     ]
    }
   ],
   "source": [
    "print(\"Comparação menor ou igual:\")\n",
    "print(A >= B)\n",
    "print(A >= s)"
   ]
  },
  {
   "cell_type": "markdown",
   "id": "47dcfa87",
   "metadata": {},
   "source": [
    "## Igual"
   ]
  },
  {
   "cell_type": "code",
   "execution_count": 13,
   "id": "3c0fb675",
   "metadata": {},
   "outputs": [
    {
     "name": "stdout",
     "output_type": "stream",
     "text": [
      "Comparação de igualdade:\n",
      "[False False False]\n",
      "[False False  True]\n"
     ]
    }
   ],
   "source": [
    "print(\"Comparação de igualdade:\")\n",
    "print(A == B)\n",
    "print(A == s)"
   ]
  },
  {
   "cell_type": "markdown",
   "id": "a02c1fc0",
   "metadata": {},
   "source": [
    "# Indexação Booleana"
   ]
  },
  {
   "cell_type": "markdown",
   "id": "d876bafd",
   "metadata": {},
   "source": [
    "## Operação de Filtro"
   ]
  },
  {
   "cell_type": "code",
   "execution_count": 3,
   "id": "bb287f84",
   "metadata": {},
   "outputs": [
    {
     "name": "stdout",
     "output_type": "stream",
     "text": [
      "A: [1 2 3]\n",
      "Condição: [ True  True False]\n",
      "D: [1 2]\n"
     ]
    }
   ],
   "source": [
    "# indexação booleana: um novo subarray contendo uma \n",
    "# cópia dos elementos em que a condição de verificação se aplica\n",
    "cond = A <= 2\n",
    "D = A[cond] # Cria um array com os números que passam na condição acima\n",
    "print(\"A:\", A)\n",
    "print(\"Condição:\", cond)\n",
    "print(\"D:\", D)"
   ]
  },
  {
   "cell_type": "markdown",
   "id": "af5a4eb6",
   "metadata": {},
   "source": [
    "## Comparação"
   ]
  },
  {
   "cell_type": "code",
   "execution_count": 10,
   "id": "b116e232",
   "metadata": {},
   "outputs": [
    {
     "name": "stdout",
     "output_type": "stream",
     "text": [
      "X: \n",
      " [[1 2]\n",
      " [3 4]]\n",
      "Y: \n",
      " [1.5 3.5]\n"
     ]
    }
   ],
   "source": [
    "# Criação dos arrays\n",
    "x = np.array([[1, 2], [3, 4]])\n",
    "y = np.array([1.5, 3.5])\n",
    "print(\"X: \\n\", x)\n",
    "print(\"Y: \\n\", y)"
   ]
  },
  {
   "cell_type": "markdown",
   "id": "4f5f932a",
   "metadata": {},
   "source": [
    "### Comparações ponto a ponto"
   ]
  },
  {
   "cell_type": "code",
   "execution_count": 11,
   "id": "051c3f6f",
   "metadata": {},
   "outputs": [
    {
     "name": "stdout",
     "output_type": "stream",
     "text": [
      "Comparação de um array com um escalar (>): \n",
      " [[False False]\n",
      " [ True  True]]\n",
      "Comparação de um array com um escalar (>=): \n",
      " [[False  True]\n",
      " [ True  True]]\n",
      "Comparação de um array com um escalar (<): \n",
      " [[ True False]\n",
      " [False False]]\n",
      "Comparação de um array com um escalar (<=): \n",
      " [[ True  True]\n",
      " [False False]]\n",
      "Comparação entre arrays (==): \n",
      " [[ True  True]\n",
      " [ True  True]]\n",
      "Comparação entre arrays (>): \n",
      " [[False False]\n",
      " [False False]]\n",
      "Comparação entre arrays (>): \n",
      " [[False False]\n",
      " [ True  True]]\n"
     ]
    }
   ],
   "source": [
    "# Comparações ponto a ponto\n",
    "print(\"Comparação de um array com um escalar (>): \\n\", x > 2)\n",
    "print(\"Comparação de um array com um escalar (>=): \\n\", x >= 2)\n",
    "print(\"Comparação de um array com um escalar (<): \\n\", x < 2)\n",
    "print(\"Comparação de um array com um escalar (<=): \\n\", x <= 2)\n",
    "print(\"Comparação entre arrays (==): \\n\", x == x)\n",
    "print(\"Comparação entre arrays (>): \\n\", x > x)\n",
    "print(\"Comparação entre arrays (>): \\n\", x > y) # broadcasting"
   ]
  },
  {
   "cell_type": "markdown",
   "id": "619b2e02",
   "metadata": {},
   "source": [
    "## Indexação Booleana"
   ]
  },
  {
   "cell_type": "code",
   "execution_count": 16,
   "id": "04e5ce6b",
   "metadata": {},
   "outputs": [
    {
     "name": "stdout",
     "output_type": "stream",
     "text": [
      "X: \n",
      " [[ 1  3  7]\n",
      " [ 4 11 21]\n",
      " [42  8  9]]\n"
     ]
    }
   ],
   "source": [
    "x = np.array([[1, 3, 7], [4, 11, 21], [42, 8, 9]])\n",
    "print(\"X: \\n\", x)"
   ]
  },
  {
   "cell_type": "markdown",
   "id": "a452ba50",
   "metadata": {},
   "source": [
    "### Retornar um número de elementos maiores do que um determinado valor"
   ]
  },
  {
   "cell_type": "code",
   "execution_count": 26,
   "id": "c8f0a6e9",
   "metadata": {},
   "outputs": [
    {
     "name": "stdout",
     "output_type": "stream",
     "text": [
      "Condição: \n",
      " [[False False False]\n",
      " [False  True  True]\n",
      " [ True False False]] \n",
      "\n",
      "Elementos maiores que 10: [11 21 42] \n",
      "\n",
      "Número de elementos maiores que 10: 3\n"
     ]
    }
   ],
   "source": [
    "# Maiores que k\n",
    "k = 10\n",
    "cond = x > k\n",
    "print(\"Condição: \\n\", cond, \"\\n\")\n",
    "print(f'Elementos maiores que {k}:', x[cond], \"\\n\")\n",
    "print(f'Número de elementos maiores que {k}:', len(x[cond]))"
   ]
  },
  {
   "cell_type": "markdown",
   "id": "40103cdd",
   "metadata": {},
   "source": [
    "### Extração dos números pares"
   ]
  },
  {
   "cell_type": "code",
   "execution_count": 24,
   "id": "c8b33f9b",
   "metadata": {},
   "outputs": [
    {
     "name": "stdout",
     "output_type": "stream",
     "text": [
      "X: \n",
      " [[ 1  3  7]\n",
      " [ 4 11 21]\n",
      " [42  8  9]] \n",
      "\n",
      "Condição: \n",
      " [[False False False]\n",
      " [ True False False]\n",
      " [ True  True False]] \n",
      "\n",
      "Números pares: [ 4 42  8]\n"
     ]
    }
   ],
   "source": [
    "cond = x % 2 == 0 # números pares\n",
    "print(\"X: \\n\", x, \"\\n\")\n",
    "print(\"Condição: \\n\", cond, \"\\n\")\n",
    "print(\"Números pares:\", x[cond])"
   ]
  },
  {
   "cell_type": "markdown",
   "id": "b32de8ed",
   "metadata": {},
   "source": [
    "### Extração dos números Ímpares"
   ]
  },
  {
   "cell_type": "code",
   "execution_count": 25,
   "id": "f9b020e4",
   "metadata": {},
   "outputs": [
    {
     "name": "stdout",
     "output_type": "stream",
     "text": [
      "X: \n",
      " [[ 1  3  7]\n",
      " [ 4 11 21]\n",
      " [42  8  9]] \n",
      "\n",
      "Condição: \n",
      " [[ True  True  True]\n",
      " [False  True  True]\n",
      " [False False  True]] \n",
      "\n",
      "Números pares: [ 1  3  7 11 21  9]\n"
     ]
    }
   ],
   "source": [
    "cond = x % 2 != 0 # números ímpares ou cond = x % 2 == 1\n",
    "print(\"X: \\n\", x, \"\\n\")\n",
    "print(\"Condição: \\n\", cond, \"\\n\")\n",
    "print(\"Números pares:\", x[cond])"
   ]
  },
  {
   "cell_type": "code",
   "execution_count": null,
   "id": "0f298a61",
   "metadata": {},
   "outputs": [],
   "source": []
  }
 ],
 "metadata": {
  "kernelspec": {
   "display_name": "Python 3 (ipykernel)",
   "language": "python",
   "name": "python3"
  },
  "language_info": {
   "codemirror_mode": {
    "name": "ipython",
    "version": 3
   },
   "file_extension": ".py",
   "mimetype": "text/x-python",
   "name": "python",
   "nbconvert_exporter": "python",
   "pygments_lexer": "ipython3",
   "version": "3.9.13"
  }
 },
 "nbformat": 4,
 "nbformat_minor": 5
}
