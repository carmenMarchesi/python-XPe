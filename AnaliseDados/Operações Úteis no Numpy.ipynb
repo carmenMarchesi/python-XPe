{
 "cells": [
  {
   "cell_type": "markdown",
   "id": "66e5b0f2",
   "metadata": {},
   "source": [
    "### Importando a Biblioteca Numpy"
   ]
  },
  {
   "cell_type": "code",
   "execution_count": 3,
   "id": "7483efb1",
   "metadata": {},
   "outputs": [],
   "source": [
    "import numpy as np"
   ]
  },
  {
   "cell_type": "markdown",
   "id": "228a4014",
   "metadata": {},
   "source": [
    "# 1. Operações Úteis em Numpy"
   ]
  },
  {
   "cell_type": "markdown",
   "id": "65f9c443",
   "metadata": {},
   "source": [
    "## Array"
   ]
  },
  {
   "cell_type": "code",
   "execution_count": 8,
   "id": "f8110b0b",
   "metadata": {},
   "outputs": [
    {
     "name": "stdout",
     "output_type": "stream",
     "text": [
      "X: \n",
      " [[ 1  3  7]\n",
      " [ 4 11 21]\n",
      " [42  8  9]]\n"
     ]
    }
   ],
   "source": [
    "x = np.array([ [1, 3, 7], [4, 11, 21], [42, 8, 9]])\n",
    "print(\"X: \\n\", x)"
   ]
  },
  {
   "cell_type": "markdown",
   "id": "de6edaaa",
   "metadata": {},
   "source": [
    "## 1.1 Reshape: Transformar a matriz em um vetor coluna"
   ]
  },
  {
   "cell_type": "markdown",
   "id": "6441f440",
   "metadata": {},
   "source": [
    "### 1.1.1 - (3, 3) virará (9, 1): 3x3 = 9x1 = 9"
   ]
  },
  {
   "cell_type": "code",
   "execution_count": 11,
   "id": "df0e9c06",
   "metadata": {},
   "outputs": [
    {
     "name": "stdout",
     "output_type": "stream",
     "text": [
      "Transformação de x em um vetor coluna: \n",
      " [[ 1]\n",
      " [ 3]\n",
      " [ 7]\n",
      " [ 4]\n",
      " [11]\n",
      " [21]\n",
      " [42]\n",
      " [ 8]\n",
      " [ 9]]\n"
     ]
    }
   ],
   "source": [
    "# Ele sai de um vetor com 3 linhas e 3 colunas para um vetor com 9 linhas e 1 coluna\n",
    "print(\"Transformação de x em um vetor coluna: \\n\", x.reshape(9, 1))"
   ]
  },
  {
   "cell_type": "markdown",
   "id": "9caa714d",
   "metadata": {},
   "source": [
    "## 1.2 Transposição de Matriz"
   ]
  },
  {
   "cell_type": "markdown",
   "id": "b62c17d5",
   "metadata": {},
   "source": [
    "Faz o que é linha virar coluna, e o que é coluna virar linha"
   ]
  },
  {
   "cell_type": "code",
   "execution_count": 15,
   "id": "b677955c",
   "metadata": {},
   "outputs": [
    {
     "name": "stdout",
     "output_type": "stream",
     "text": [
      "X: \n",
      " [[ 1  3  7]\n",
      " [ 4 11 21]\n",
      " [42  8  9]] \n",
      "\n",
      "X transposta: \n",
      " [[ 1  4 42]\n",
      " [ 3 11  8]\n",
      " [ 7 21  9]]\n"
     ]
    }
   ],
   "source": [
    "print(\"X: \\n\", x, \"\\n\")\n",
    "print(\"X transposta: \\n\", x.T)"
   ]
  },
  {
   "cell_type": "markdown",
   "id": "7c5fc7d7",
   "metadata": {},
   "source": [
    "## 1.3 Soma de elementos de uma Matriz"
   ]
  },
  {
   "cell_type": "markdown",
   "id": "65256b6d",
   "metadata": {},
   "source": [
    "### np.sum:"
   ]
  },
  {
   "cell_type": "markdown",
   "id": "08ae6278",
   "metadata": {},
   "source": [
    "Soma em um dado eixo, axis = {0: linha, 1: coluna}"
   ]
  },
  {
   "cell_type": "code",
   "execution_count": 17,
   "id": "5decca1b",
   "metadata": {},
   "outputs": [
    {
     "name": "stdout",
     "output_type": "stream",
     "text": [
      "X: \n",
      " [[ 1  3  7]\n",
      " [ 4 11 21]\n",
      " [42  8  9]] \n",
      "\n",
      "Soma de todos os elementos de X: 106\n",
      "Soma de X ao longo das linhas: [47 22 37]\n",
      "Soma de X ao longo das colunas: [11 36 59]\n"
     ]
    }
   ],
   "source": [
    "print(\"X: \\n\", x, \"\\n\")\n",
    "print(\"Soma de todos os elementos de X:\", np.sum(x))\n",
    "print(\"Soma de X ao longo das linhas:\", np.sum(x, axis=0))\n",
    "print(\"Soma de X ao longo das colunas:\", np.sum(x, axis=1))"
   ]
  },
  {
   "cell_type": "markdown",
   "id": "f008ca6d",
   "metadata": {},
   "source": [
    "## 1.4 Média dos elementos"
   ]
  },
  {
   "cell_type": "markdown",
   "id": "f8ba0ab2",
   "metadata": {},
   "source": [
    "### np.mean:"
   ]
  },
  {
   "cell_type": "markdown",
   "id": "21b5017e",
   "metadata": {},
   "source": [
    "Média de um dados eixo, axis = {0: linha, 1: coluna}"
   ]
  },
  {
   "cell_type": "code",
   "execution_count": 18,
   "id": "729c9b1c",
   "metadata": {},
   "outputs": [
    {
     "name": "stdout",
     "output_type": "stream",
     "text": [
      "X: \n",
      " [[ 1  3  7]\n",
      " [ 4 11 21]\n",
      " [42  8  9]] \n",
      "\n",
      "Média de todos os elementos de X: 11.777777777777779\n",
      "Média de X ao longo das linhas: [15.66666667  7.33333333 12.33333333]\n",
      "Média de X ao longo das colunas: [ 3.66666667 12.         19.66666667]\n"
     ]
    }
   ],
   "source": [
    "print(\"X: \\n\", x, \"\\n\")\n",
    "print(\"Média de todos os elementos de X:\", np.mean(x))\n",
    "print(\"Média de X ao longo das linhas:\", np.mean(x, axis=0))\n",
    "print(\"Média de X ao longo das colunas:\", np.mean(x, axis=1))"
   ]
  },
  {
   "cell_type": "markdown",
   "id": "6bdeb421",
   "metadata": {},
   "source": [
    "## 1.5 Identificando os Índices"
   ]
  },
  {
   "cell_type": "markdown",
   "id": "8e3b096f",
   "metadata": {},
   "source": [
    "### np.where:"
   ]
  },
  {
   "cell_type": "markdown",
   "id": "812f06a4",
   "metadata": {},
   "source": [
    "Identificação dos índices onde uma dada condição é atendida.  \n",
    "Uso conjunto com indexação booleana"
   ]
  },
  {
   "cell_type": "code",
   "execution_count": 20,
   "id": "e3faf5c5",
   "metadata": {},
   "outputs": [
    {
     "name": "stdout",
     "output_type": "stream",
     "text": [
      "X: \n",
      " [[ 1  3  7]\n",
      " [ 4 11 21]\n",
      " [42  8  9]] \n",
      "\n",
      "Condição: \n",
      " [[False False False]\n",
      " [ True False False]\n",
      " [ True  True False]] \n",
      "\n",
      "Índice i (linhas): [1 2 2]\n",
      "Índice j (colunas): [0 0 1]\n"
     ]
    }
   ],
   "source": [
    "print(\"X: \\n\", x, \"\\n\")\n",
    "cond = x % 2 == 0 # números pares\n",
    "print(\"Condição: \\n\", cond, \"\\n\")\n",
    "i, j = np.where(cond) # índices x[i, j] = x[cond]\n",
    "print(\"Índice i (linhas):\", i)\n",
    "print(\"Índice j (colunas):\", j)"
   ]
  },
  {
   "cell_type": "markdown",
   "id": "6f69bb80",
   "metadata": {},
   "source": [
    "## 1.6 Indexação Booleana e Slicing"
   ]
  },
  {
   "cell_type": "markdown",
   "id": "2469709e",
   "metadata": {},
   "source": [
    "### Selecionar as linhas de x que possuem algum número par"
   ]
  },
  {
   "cell_type": "code",
   "execution_count": 22,
   "id": "57db802e",
   "metadata": {},
   "outputs": [
    {
     "name": "stdout",
     "output_type": "stream",
     "text": [
      "X: \n",
      " [[ 1  3  7]\n",
      " [ 4 11 21]\n",
      " [42  8  9]] \n",
      "\n",
      "Condição: \n",
      " [[False False False]\n",
      " [ True False False]\n",
      " [ True  True False]]\n"
     ]
    }
   ],
   "source": [
    "print(\"X: \\n\", x, \"\\n\")\n",
    "cond = x % 2 == 0 # números pares\n",
    "print(\"Condição: \\n\", cond)"
   ]
  },
  {
   "cell_type": "markdown",
   "id": "cc15282f",
   "metadata": {},
   "source": [
    "### # Se houver alguma condição True na linha, a soma será 0"
   ]
  },
  {
   "cell_type": "code",
   "execution_count": 24,
   "id": "b17be8bf",
   "metadata": {},
   "outputs": [
    {
     "name": "stdout",
     "output_type": "stream",
     "text": [
      "Índices das linhas que possuem números pares: [1 2] \n",
      "\n",
      "Linhas que possuem números pares: \n",
      " [[ 4 11 21]\n",
      " [42  8  9]]\n"
     ]
    }
   ],
   "source": [
    "i_row = np.where(np.sum(cond, axis=1))[0]\n",
    "print(\"Índices das linhas que possuem números pares:\", i_row, \"\\n\")\n",
    "print(\"Linhas que possuem números pares: \\n\", x[i_row, :])"
   ]
  },
  {
   "cell_type": "code",
   "execution_count": null,
   "id": "ecb5af4e",
   "metadata": {},
   "outputs": [],
   "source": []
  }
 ],
 "metadata": {
  "kernelspec": {
   "display_name": "Python 3 (ipykernel)",
   "language": "python",
   "name": "python3"
  },
  "language_info": {
   "codemirror_mode": {
    "name": "ipython",
    "version": 3
   },
   "file_extension": ".py",
   "mimetype": "text/x-python",
   "name": "python",
   "nbconvert_exporter": "python",
   "pygments_lexer": "ipython3",
   "version": "3.9.13"
  }
 },
 "nbformat": 4,
 "nbformat_minor": 5
}
