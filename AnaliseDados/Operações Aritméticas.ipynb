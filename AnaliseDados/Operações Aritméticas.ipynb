{
 "cells": [
  {
   "cell_type": "code",
   "execution_count": 1,
   "id": "455686fb",
   "metadata": {},
   "outputs": [],
   "source": [
    "import numpy as np"
   ]
  },
  {
   "cell_type": "markdown",
   "id": "35daec40",
   "metadata": {},
   "source": [
    "# Operações Aritméticas"
   ]
  },
  {
   "cell_type": "code",
   "execution_count": 2,
   "id": "09af5fb4",
   "metadata": {},
   "outputs": [
    {
     "name": "stdout",
     "output_type": "stream",
     "text": [
      "x: \n",
      " [[1. 1.]\n",
      " [1. 1.]]\n",
      "y: \n",
      " [[1. 0.]\n",
      " [0. 1.]]\n"
     ]
    }
   ],
   "source": [
    "# Criação de dois arrays x e y\n",
    "x = np.ones((2, 2))\n",
    "y = np.eye(2)\n",
    "print(\"x: \\n\", x)\n",
    "print(\"y: \\n\", y)"
   ]
  },
  {
   "cell_type": "markdown",
   "id": "77cacd09",
   "metadata": {},
   "source": [
    "## Soma"
   ]
  },
  {
   "cell_type": "code",
   "execution_count": 3,
   "id": "38c8dd59",
   "metadata": {},
   "outputs": [
    {
     "name": "stdout",
     "output_type": "stream",
     "text": [
      "Soma de dois arrays: \n",
      " [[2. 1.]\n",
      " [1. 2.]]\n",
      "Soma com float/int:\n",
      " [[3. 3.]\n",
      " [3. 3.]]\n"
     ]
    }
   ],
   "source": [
    "print(\"Soma de dois arrays: \\n\", x + y)\n",
    "print(\"Soma com float/int:\\n\", x + 2.) #broadcasting, o 2 será somado a todos os elementos do x - 2 int, 2. float "
   ]
  },
  {
   "cell_type": "markdown",
   "id": "847798f8",
   "metadata": {},
   "source": [
    "## Subtração"
   ]
  },
  {
   "cell_type": "code",
   "execution_count": 4,
   "id": "0425172c",
   "metadata": {},
   "outputs": [
    {
     "name": "stdout",
     "output_type": "stream",
     "text": [
      "Subtração de dois arrays: \n",
      " [[0. 1.]\n",
      " [1. 0.]]\n",
      "Subtração com float/int:\n",
      " [[-1. -1.]\n",
      " [-1. -1.]]\n"
     ]
    }
   ],
   "source": [
    "print(\"Subtração de dois arrays: \\n\", x - y)\n",
    "print(\"Subtração com float/int:\\n\", x - 2.) #broadcasting"
   ]
  },
  {
   "cell_type": "markdown",
   "id": "def0c51c",
   "metadata": {},
   "source": [
    "## Divisão"
   ]
  },
  {
   "cell_type": "code",
   "execution_count": 5,
   "id": "fcdc597f",
   "metadata": {},
   "outputs": [
    {
     "name": "stdout",
     "output_type": "stream",
     "text": [
      "Divisão de dois arrays: \n",
      " [[ 1. inf]\n",
      " [inf  1.]]\n",
      "Divisão com float/int:\n",
      " [[0.5 0.5]\n",
      " [0.5 0.5]]\n"
     ]
    },
    {
     "name": "stderr",
     "output_type": "stream",
     "text": [
      "C:\\Users\\carme\\AppData\\Local\\Temp\\ipykernel_8380\\1227312385.py:2: RuntimeWarning: divide by zero encountered in divide\n",
      "  print(\"Divisão de dois arrays: \\n\", x / y)\n"
     ]
    }
   ],
   "source": [
    "print(\"Divisão de dois arrays: \\n\", x / y)\n",
    "print(\"Divisão com float/int:\\n\", x / 2) #broadcasting"
   ]
  },
  {
   "cell_type": "code",
   "execution_count": 7,
   "id": "a040d83f",
   "metadata": {},
   "outputs": [],
   "source": [
    "# Quando o broadcasting não funciona\n",
    "# np.array([1, 2, 3]) + np.array([1, 2])\n",
    "# As dimensões são inconsistentes"
   ]
  },
  {
   "cell_type": "markdown",
   "id": "d02560be",
   "metadata": {},
   "source": [
    "## Combinação de operações"
   ]
  },
  {
   "cell_type": "code",
   "execution_count": 8,
   "id": "082943a1",
   "metadata": {},
   "outputs": [
    {
     "name": "stdout",
     "output_type": "stream",
     "text": [
      "Combinação de operações: \n",
      " [[inf  1.]\n",
      " [ 1. inf]]\n"
     ]
    },
    {
     "name": "stderr",
     "output_type": "stream",
     "text": [
      "C:\\Users\\carme\\AppData\\Local\\Temp\\ipykernel_8380\\166789434.py:2: RuntimeWarning: divide by zero encountered in divide\n",
      "  print(\"Combinação de operações: \\n\", (x + y) / (x - y))\n"
     ]
    }
   ],
   "source": [
    "# Soma, subtração e divisão\n",
    "print(\"Combinação de operações: \\n\", (x + y) / (x - y))"
   ]
  },
  {
   "cell_type": "markdown",
   "id": "d8372fd9",
   "metadata": {},
   "source": [
    "# Operações Matriciais "
   ]
  },
  {
   "cell_type": "markdown",
   "id": "e0f0d7b9",
   "metadata": {},
   "source": [
    "## Multiplicação"
   ]
  },
  {
   "cell_type": "code",
   "execution_count": 9,
   "id": "41f07573",
   "metadata": {},
   "outputs": [
    {
     "name": "stdout",
     "output_type": "stream",
     "text": [
      "x: \n",
      " [[1. 1.]\n",
      " [1. 1.]]\n",
      "y: \n",
      " [[1. 0.]\n",
      " [0. 1.]]\n"
     ]
    }
   ],
   "source": [
    "# Multiplicação elemento a elemento\n",
    "print(\"x: \\n\", x)\n",
    "print(\"y: \\n\", y)"
   ]
  },
  {
   "cell_type": "code",
   "execution_count": 10,
   "id": "af11b6dc",
   "metadata": {},
   "outputs": [
    {
     "name": "stdout",
     "output_type": "stream",
     "text": [
      "Multiplicação de dois arrays: \n",
      " [[1. 0.]\n",
      " [0. 1.]]\n",
      "Multiplicação com float/int:\n",
      " [[2. 2.]\n",
      " [2. 2.]]\n"
     ]
    }
   ],
   "source": [
    "# Multiplicação\n",
    "print(\"Multiplicação de dois arrays: \\n\", x * y)\n",
    "print(\"Multiplicação com float/int:\\n\", x * 2.) #broadcasting"
   ]
  },
  {
   "cell_type": "code",
   "execution_count": 11,
   "id": "adb089e9",
   "metadata": {},
   "outputs": [
    {
     "data": {
      "text/plain": [
       "array([[10., 10., 10., 10., 10., 10., 10., 10., 10., 10.],\n",
       "       [10., 10., 10., 10., 10., 10., 10., 10., 10., 10.],\n",
       "       [10., 10., 10., 10., 10., 10., 10., 10., 10., 10.],\n",
       "       [10., 10., 10., 10., 10., 10., 10., 10., 10., 10.],\n",
       "       [10., 10., 10., 10., 10., 10., 10., 10., 10., 10.],\n",
       "       [10., 10., 10., 10., 10., 10., 10., 10., 10., 10.],\n",
       "       [10., 10., 10., 10., 10., 10., 10., 10., 10., 10.],\n",
       "       [10., 10., 10., 10., 10., 10., 10., 10., 10., 10.],\n",
       "       [10., 10., 10., 10., 10., 10., 10., 10., 10., 10.],\n",
       "       [10., 10., 10., 10., 10., 10., 10., 10., 10., 10.]])"
      ]
     },
     "execution_count": 11,
     "metadata": {},
     "output_type": "execute_result"
    }
   ],
   "source": [
    "# Criando array simples contendo apenas o número 10\n",
    "# Multiplicamos a matriz de 10x10 criada de apenas 1's por 10\n",
    "10 * np.ones((10, 10))"
   ]
  },
  {
   "cell_type": "markdown",
   "id": "8db9ccbc",
   "metadata": {},
   "source": [
    "## Multiplicação Matricial"
   ]
  },
  {
   "cell_type": "code",
   "execution_count": 13,
   "id": "049afbff",
   "metadata": {},
   "outputs": [
    {
     "name": "stdout",
     "output_type": "stream",
     "text": [
      "Multiplicação Matricial (np.dot): \n",
      " [[1. 1.]\n",
      " [1. 1.]]\n",
      "Multiplicação Matricial (@): \n",
      " [[1. 1.]\n",
      " [1. 1.]]\n",
      "Multiplicação Matricial (.dot): \n",
      " [[1. 1.]\n",
      " [1. 1.]]\n"
     ]
    }
   ],
   "source": [
    "print(\"Multiplicação Matricial (np.dot): \\n\", np.dot(x, y))\n",
    "print(\"Multiplicação Matricial (@): \\n\", x @ y)\n",
    "print(\"Multiplicação Matricial (.dot): \\n\", x.dot(y))"
   ]
  },
  {
   "cell_type": "markdown",
   "id": "71fab698",
   "metadata": {},
   "source": [
    "### Exemplo"
   ]
  },
  {
   "cell_type": "code",
   "execution_count": null,
   "id": "97abff0a",
   "metadata": {},
   "outputs": [],
   "source": [
    "\"\"\"\n",
    "Exemplo:\n",
    "Solução de um sistema de equações:\n",
    "    a + 2*b = 7\n",
    "  3*a - 2*b = -11\n",
    "  \n",
    "Solução analítica: (a,b) = (-1, 4)\n",
    "Matricialmente, este problema tem a seguinte forma:\n",
    "    Ax = c, onde:\n",
    "    - X = [a, b]\n",
    "    - A = [[1,2], [3, -2]]\n",
    "    - C = [7, -11]\n",
    "\n",
    "Solução numérica: x = inv(A) @ C,\n",
    "\"\"\""
   ]
  },
  {
   "cell_type": "code",
   "execution_count": 19,
   "id": "374a2d80",
   "metadata": {},
   "outputs": [
    {
     "name": "stdout",
     "output_type": "stream",
     "text": [
      "A: \n",
      " [[ 1  2]\n",
      " [ 3 -2]]\n",
      "C: \n",
      " [[  7]\n",
      " [-11]]\n"
     ]
    }
   ],
   "source": [
    "# Definição do problema\n",
    "A = np.array([[1, 2], [3, -2]])\n",
    "C = np.array([[7], [-11]])\n",
    "print(\"A: \\n\", A)\n",
    "print(\"C: \\n\", C)"
   ]
  },
  {
   "cell_type": "code",
   "execution_count": 20,
   "id": "7a351ff6",
   "metadata": {},
   "outputs": [
    {
     "name": "stdout",
     "output_type": "stream",
     "text": [
      "(a, b): [-1.  4.]\n"
     ]
    }
   ],
   "source": [
    "# Solução\n",
    "x = np.dot(np.linalg.inv(A), C)\n",
    "# x = np.linalg.inv(A) @ C # inv faz a inversa da matriz\n",
    "print(\"(a, b):\", x.ravel())"
   ]
  }
 ],
 "metadata": {
  "kernelspec": {
   "display_name": "Python 3 (ipykernel)",
   "language": "python",
   "name": "python3"
  },
  "language_info": {
   "codemirror_mode": {
    "name": "ipython",
    "version": 3
   },
   "file_extension": ".py",
   "mimetype": "text/x-python",
   "name": "python",
   "nbconvert_exporter": "python",
   "pygments_lexer": "ipython3",
   "version": "3.9.13"
  }
 },
 "nbformat": 4,
 "nbformat_minor": 5
}
